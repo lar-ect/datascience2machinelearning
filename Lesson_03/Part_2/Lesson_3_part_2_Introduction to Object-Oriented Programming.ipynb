{
 "cells": [
  {
   "cell_type": "markdown",
   "metadata": {},
   "source": [
    "# Introduction to Object-Oriented Programming\n",
    "\n",
    "In the previous notebooks, we introduced the paradigms of **functional programming**. In summary, functional programming is when every function takes in an input and produces an output. We can stack these functions into a pipeline and pass variables, lists and other data structures \n",
    "through our functions:\n",
    "\n",
    "<left><img width=\"600\" src=\"https://drive.google.com/uc?export=view&id=11Yr6ySfPdRfxJVSqe3-__kHkIhxOw52O\"></left>\n",
    "\n",
    "In functional programming, we have a variable and alter the state of the variable by passing it through a number of functions. An alternative to functional programming, is **object-oriented programming**. Object-oriented programming is a paradigm of modeling complex behavior in python.\n",
    "\n",
    "Let's look at real life objects. Real-life objects are tangible things that we can feel, touch and smell. The computer you're using to read this lesson, is something you can feel and touch. Smell? Perhaps, not as much. However, you use your computer for a specific purpose: to learn data science, to finish work, connect with friends etc.\n",
    "\n",
    "Objects in python aren't too different. Although you can't touch or feel objects in python, objects are models of certain things. A **class**, is essentially a blueprint for creating an object. For example, let's say we have three top music artists sitting in front of us: Beyonce, Ed Sheeran and Kanye West. Each person is a distinct object, but all three have attributes and behaviors associated with one class: music artists."
   ]
  },
  {
   "cell_type": "markdown",
   "metadata": {},
   "source": [
    "# Creating a Class and an Instance\n",
    "\n",
    "We have three music artists sitting in front of us: **Beyonce**, **Ed Sheeran** and **Kanye West**. All three, belong to the **class** of **MusicArtist**. To create a class, in python, we use the class keyword and then the name of the class after. Let's create a class called MusicArtist:\n",
    "\n",
    "```python\n",
    "class MusicArtist():\n",
    "    pass\n",
    "```\n",
    "\n",
    "For now, we'll leave this class empty by using the **pass** keyword. The **pass** keyword allows classes or functions to run successfully without any content. If we didn't include the **pass** keyword, the interpreter would return an error:"
   ]
  },
  {
   "cell_type": "code",
   "execution_count": 1,
   "metadata": {},
   "outputs": [
    {
     "ename": "SyntaxError",
     "evalue": "unexpected EOF while parsing (<ipython-input-1-8e45a498f126>, line 1)",
     "output_type": "error",
     "traceback": [
      "\u001b[0;36m  File \u001b[0;32m\"<ipython-input-1-8e45a498f126>\"\u001b[0;36m, line \u001b[0;32m1\u001b[0m\n\u001b[0;31m    class MusicArtist():\u001b[0m\n\u001b[0m                        ^\u001b[0m\n\u001b[0;31mSyntaxError\u001b[0m\u001b[0;31m:\u001b[0m unexpected EOF while parsing\n"
     ]
    }
   ],
   "source": [
    "class MusicArtist():"
   ]
  },
  {
   "cell_type": "markdown",
   "metadata": {},
   "source": [
    "The class name, by convention, is in [PascalCase](https://www.python.org/dev/peps/pep-0008/#class-names) where the first letter of every word is capitalized. Examples:\n",
    "\n",
    "- CapWords\n",
    "- TheTitle\n",
    "\n",
    "Let's return to our original code:"
   ]
  },
  {
   "cell_type": "code",
   "execution_count": 2,
   "metadata": {},
   "outputs": [],
   "source": [
    "class MusicArtist():\n",
    "    pass"
   ]
  },
  {
   "cell_type": "markdown",
   "metadata": {},
   "source": [
    "We've successfully created a **MusicArtist** class. Using this class, we can create **instances** from our class. An instance is a specific object with its own set of behaviors and characteristics. If we had Beyonce, Ed Sheeran and Kanye West sitting in front of us, all three would be an **instance** of the **MusicArtist** class. Objects are instances of a class with it's own specific set of characteristics and behaviors. However, all three people would still be a part of the **MusicArtist** class.\n",
    "\n",
    "To create an instance of our **MusicArtist** class, we'll write out the name of the **class** with the parenthesis. Then, we'll store this object in a name of our choice:"
   ]
  },
  {
   "cell_type": "code",
   "execution_count": 10,
   "metadata": {},
   "outputs": [],
   "source": [
    "class MusicArtist():\n",
    "    pass\n",
    "\n",
    "beyonce = MusicArtist()"
   ]
  },
  {
   "cell_type": "markdown",
   "metadata": {},
   "source": [
    "<left><img width=\"400\" src=\"https://drive.google.com/uc?export=view&id=13RE5_SwbcmukP3LqumvYAEjbZnJtP5mX\"></left>"
   ]
  },
  {
   "cell_type": "markdown",
   "metadata": {},
   "source": [
    "We'll dive deeper into what the behavior & data mean in a later screen. For now, understand that we use classes to create objects. We've officially created the first dancer! Now, let's create **ed_sheeran** object."
   ]
  },
  {
   "cell_type": "code",
   "execution_count": 11,
   "metadata": {},
   "outputs": [],
   "source": [
    "ed_sheeran = MusicArtist()"
   ]
  },
  {
   "cell_type": "markdown",
   "metadata": {},
   "source": [
    "<left><img width=\"400\" src=\"https://drive.google.com/uc?export=view&id=1d1J3j0RpPRxOJp3Qs6-PBSOTk2ZlJOYA\"></left>\n",
    "\n",
    "Now, if we were to print out beyonce and ed_sheeran, the interpreter would return:"
   ]
  },
  {
   "cell_type": "code",
   "execution_count": 12,
   "metadata": {},
   "outputs": [
    {
     "name": "stdout",
     "output_type": "stream",
     "text": [
      "<__main__.MusicArtist object at 0x103e34550> <__main__.MusicArtist object at 0x103e34630>\n"
     ]
    }
   ],
   "source": [
    "print(beyonce, ed_sheeran)"
   ]
  },
  {
   "cell_type": "markdown",
   "metadata": {},
   "source": [
    "**0x number**  tells us the memory location of our object. Whenever we define a variable like **a=1**, python assigns a location in memory for the object. Think of this like a unique home address. Whenever we want to use the value, we access the address.\n",
    "\n",
    "A Notice, that even though **beyonce** and **ed_sheeran** are both defined as **MusicArtist()**, they are stored in different locations. These are two distinct objects. Now, let's add **kanye west** to our objects!\n",
    "\n",
    "**Exercise**\n",
    "\n",
    "<left><img width=\"100\" src=\"https://drive.google.com/uc?export=view&id=1E8tR7B9YYUXsU_rddJAyq0FrM0MSelxZ\"></left>\n",
    "\n",
    "- Create a class called **MusicArtist()**.\n",
    "- Create multiple instances of **MusicArtist()** and assign to the following variables:\n",
    "    - beyonce\n",
    "    - ed_sheeran\n",
    "    - kanye_west"
   ]
  },
  {
   "cell_type": "code",
   "execution_count": 1,
   "metadata": {},
   "outputs": [],
   "source": [
    "# put your code here"
   ]
  },
  {
   "cell_type": "markdown",
   "metadata": {},
   "source": [
    "# Defining Variables Within a Class\n",
    "\n",
    "We've created objects representing Ed Sheeran, Beyonce and Kanye West. However, these objects are empty since we haven't defined anything in our class.\n",
    "\n",
    "Whenever we look at three music artists like Ed Sheeran, Beyonce and Kanye West, there are immediate differences between each artist. They perform at different dates throughout the year. They produce different types of music. They produce different albums. They're all music artists, but they differ in characteristics.\n",
    "\n",
    "How do we make sure these differences are reflected in each instance? We can use **instance variables** to define the **data** for each object. Instance variables are similar to regular variables. However, they are only accessible on the instance level. To better understand this, let's say we wanted to create an instance variable that told us the album name of one of our music artists. To create an instance variable, we'd write the following:\n",
    "\n",
    "```python\n",
    "object.name_of_new_variable = \"Content of Variable\"\n",
    "```\n",
    "Let's create an instance variable called album for the beyonce object:\n",
    "\n",
    "```python\n",
    "beyonce.album = \"Dangerously in Love\"\n",
    "```\n",
    "\n",
    "The album would be reflected in our chart like this:\n",
    "\n",
    "<left><img width=\"400\" src=\"https://drive.google.com/uc?export=view&id=10sH58W0OVeZ2xBAbdUwGx7jCetIdGKSB\"></left>\n",
    "\n",
    "Let's look at the entire class and object:\n",
    "\n",
    "```python\n",
    "class MusicArtist():\n",
    "    pass\n",
    "\n",
    "beyonce = MusicArtist()\n",
    "\n",
    "beyonce.album = \"Dangerously in Love\"\n",
    "```\n",
    "\n",
    "To access this variable, we'd just write out:\n",
    "\n"
   ]
  },
  {
   "cell_type": "code",
   "execution_count": 2,
   "metadata": {},
   "outputs": [
    {
     "name": "stdout",
     "output_type": "stream",
     "text": [
      "Dangerously in Love\n"
     ]
    }
   ],
   "source": [
    "class MusicArtist():\n",
    "    pass\n",
    "\n",
    "beyonce = MusicArtist()\n",
    "\n",
    "beyonce.album = \"Dangerously in Love\"\n",
    "print(beyonce.album)"
   ]
  },
  {
   "cell_type": "markdown",
   "metadata": {},
   "source": [
    "Because album is an **instance variable**, album only exists in the **beyonce** object. If we were to try and print out album from **ed_sheeran**, we'd return an error:"
   ]
  },
  {
   "cell_type": "code",
   "execution_count": 3,
   "metadata": {},
   "outputs": [
    {
     "ename": "AttributeError",
     "evalue": "'MusicArtist' object has no attribute 'album'",
     "output_type": "error",
     "traceback": [
      "\u001b[0;31m---------------------------------------------------------------------------\u001b[0m",
      "\u001b[0;31mAttributeError\u001b[0m                            Traceback (most recent call last)",
      "\u001b[0;32m<ipython-input-3-8115378001d5>\u001b[0m in \u001b[0;36m<module>\u001b[0;34m()\u001b[0m\n\u001b[1;32m      1\u001b[0m \u001b[0med_sheeran\u001b[0m \u001b[0;34m=\u001b[0m \u001b[0mMusicArtist\u001b[0m\u001b[0;34m(\u001b[0m\u001b[0;34m)\u001b[0m\u001b[0;34m\u001b[0m\u001b[0m\n\u001b[0;32m----> 2\u001b[0;31m \u001b[0mprint\u001b[0m\u001b[0;34m(\u001b[0m\u001b[0med_sheeran\u001b[0m\u001b[0;34m.\u001b[0m\u001b[0malbum\u001b[0m\u001b[0;34m)\u001b[0m\u001b[0;34m\u001b[0m\u001b[0m\n\u001b[0m",
      "\u001b[0;31mAttributeError\u001b[0m: 'MusicArtist' object has no attribute 'album'"
     ]
    }
   ],
   "source": [
    "ed_sheeran = MusicArtist()\n",
    "print(ed_sheeran.album)"
   ]
  },
  {
   "cell_type": "markdown",
   "metadata": {},
   "source": [
    "Now, let's add instance variables to our **MusicArtist()** objects!\n",
    "\n",
    "**Exercise**\n",
    "\n",
    "<left><img width=\"100\" src=\"https://drive.google.com/uc?export=view&id=1E8tR7B9YYUXsU_rddJAyq0FrM0MSelxZ\"></left>\n",
    "\n",
    "\n",
    "- Create the following **instance variables** for **ed_sheeran** and **beyonce** objects:\n",
    "    - name\n",
    "    - genre\n",
    "    - song\n",
    "- For **ed_sheeran**, define these variables as:\n",
    "    - name: \"Ed Sheeran\"\n",
    "    - genre: \"Pop\"\n",
    "    - song: \"Thinking out Loud\"\n",
    "- For **beyonce**, define these variables as:\n",
    "    - name: \"Beyonce\"\n",
    "    - genre: \"R&B\"\n",
    "    - song: \"Halo\"\n",
    "- Print all these variables."
   ]
  },
  {
   "cell_type": "code",
   "execution_count": null,
   "metadata": {},
   "outputs": [],
   "source": [
    "# put your code here"
   ]
  },
  {
   "cell_type": "markdown",
   "metadata": {},
   "source": [
    "# Defining Attributes Using The __init__() Method\n",
    "\n",
    "In the previous example, we've manually created instance variables for **beyonce**:\n",
    "\n",
    "```python\n",
    "class MusicArtist():\n",
    "    pass\n",
    "\n",
    "beyonce = MusicArtist()\n",
    "ed_sheeran = MusicArtist()\n",
    "\n",
    "beyonce.album = \"Dangerously in Love\"\n",
    "```\n",
    "\n",
    "Now, let's add an album instance variable for **ed_sheeran**:\n",
    "\n",
    "```python\n",
    "class MusicArtist():\n",
    "    pass\n",
    "\n",
    "beyonce = MusicArtist()\n",
    "ed_sheeran = MusicArtist()\n",
    "\n",
    "beyonce.album = \"Dangerously in Love\"\n",
    "ed_sheeran.album = \"Divide\"\n",
    "```\n",
    "\n",
    "<left><img width=\"400\" src=\"https://drive.google.com/uc?export=view&id=1xBtMmW0ssSQb6_6q3xrUtsVh0NFVjbhw\"></left>\n",
    "\n",
    "We need to manually create each instance variable for each object. If we had 10 different objects, with 2 instance variables each, we'd need to re-write each instance variable 10 times, making up 20 lines of code. There's an easier way.\n",
    "\n",
    "So far, we haven't defined anything underneath our class definition:\n",
    "\n",
    "```python\n",
    "class MusicArtist():\n",
    "    pass\n",
    "```\n",
    "\n",
    "Since we want both of our objects to have the **album** variable, we could create this instance variable within our class. To do this, we'll use a method called the \\_\\_init\\_\\_() method. Functions defined within **class** are called **methods**. The \\_\\_init\\_\\_() method, is a special type of method that automatically gets called whenever we create a **new class**. If we wanted to automatically create instance variables when creating an object, we can create these instance variables within the \\_\\_init\\_\\_() method.\n",
    "\n",
    "Let's start, by defining our \\_\\_init\\_\\_() method:\n",
    "\n",
    "```python\n",
    "class MusicArtist():\n",
    "    def __init__():\n",
    "        pass\n",
    "```\n",
    "\n",
    "To add a instance variable, we'll need to add arguments to our \\_\\_init\\_\\_() method. The first step, will be to add the name of our variable:\n",
    "\n",
    "```pyton\n",
    "def __init__(album):\n",
    "```\n",
    "\n",
    "Now, if we tried to define the variable **album** and return **album** like this:"
   ]
  },
  {
   "cell_type": "code",
   "execution_count": 4,
   "metadata": {},
   "outputs": [
    {
     "ename": "TypeError",
     "evalue": "__init__() takes 1 positional argument but 2 were given",
     "output_type": "error",
     "traceback": [
      "\u001b[0;31m---------------------------------------------------------------------------\u001b[0m",
      "\u001b[0;31mTypeError\u001b[0m                                 Traceback (most recent call last)",
      "\u001b[0;32m<ipython-input-4-e1886fae7155>\u001b[0m in \u001b[0;36m<module>\u001b[0;34m()\u001b[0m\n\u001b[1;32m      3\u001b[0m         \u001b[0;32mreturn\u001b[0m \u001b[0malbum\u001b[0m\u001b[0;34m\u001b[0m\u001b[0m\n\u001b[1;32m      4\u001b[0m \u001b[0;34m\u001b[0m\u001b[0m\n\u001b[0;32m----> 5\u001b[0;31m \u001b[0mx\u001b[0m \u001b[0;34m=\u001b[0m \u001b[0mMusicArtist\u001b[0m\u001b[0;34m(\u001b[0m\u001b[0;34m\"hello\"\u001b[0m\u001b[0;34m)\u001b[0m\u001b[0;34m\u001b[0m\u001b[0m\n\u001b[0m",
      "\u001b[0;31mTypeError\u001b[0m: __init__() takes 1 positional argument but 2 were given"
     ]
    }
   ],
   "source": [
    "class MusicArtist():\n",
    "    def __init__(album):\n",
    "        return album\n",
    "\n",
    "x = MusicArtist(\"hello\")"
   ]
  },
  {
   "cell_type": "markdown",
   "metadata": {},
   "source": [
    "We'll explain later why the error message says we gave two arguments when we only wrote **\"hello\"**. In object oriented programming, methods within a class will automatically take the object itself as an argument. As a result, we'll need to add **self**:"
   ]
  },
  {
   "cell_type": "code",
   "execution_count": 22,
   "metadata": {},
   "outputs": [],
   "source": [
    "class MusicArtist():\n",
    "    def __init__(self, album):\n",
    "          self.album = album"
   ]
  },
  {
   "cell_type": "markdown",
   "metadata": {},
   "source": [
    "When we create a new object, the \\_\\_init\\_\\_ method gets automatically revoked. self tells python to pass the object through the \\_\\_init\\_\\_ method as an argument. Let's look at an example:\n",
    "\n"
   ]
  },
  {
   "cell_type": "code",
   "execution_count": 23,
   "metadata": {},
   "outputs": [],
   "source": [
    "class MusicArtist():\n",
    "    def __init__(self, album):\n",
    "          self.album = album\n",
    "\n",
    "beyonce = MusicArtist(\"Dangerously in Love\")"
   ]
  },
  {
   "cell_type": "markdown",
   "metadata": {},
   "source": [
    "Under the hood, this is what's actually happening:\n",
    "\n",
    "```python\n",
    "beyonce = MusicArtist.__init__(beyonce, \"Dangerously in Love\")\n",
    "```\n",
    "\n",
    "We can see how they connect here:\n",
    "\n",
    "<left><img width=\"600\" src=\"https://drive.google.com/uc?export=view&id=1ckNTtCLC1WtuMbVZffBSji2pw9SJRjWL\"></left>\n",
    "\n",
    "**beyonce** is actually passed in as an argument into \\_\\_init\\_\\_. This is why our error message earlier said we gave two arguments. Whenever we invoke a new method within our class, we need to pass in our object as an argument. Luckily, the python creators designed the language to do this automatically. The general convention is to use **self** keyword to reference the object.\n",
    "\n",
    "<left><img width=\"500\" src=\"https://drive.google.com/uc?export=view&id=1XKv33fEThAuwbwozaEAXhcTaY7neVd5N\"></left>\n",
    "\n",
    "Now, let's add some attributes to our music artists!\n",
    "\n",
    "\n",
    "**Exercise**\n",
    "\n",
    "<left><img width=\"100\" src=\"https://drive.google.com/uc?export=view&id=1E8tR7B9YYUXsU_rddJAyq0FrM0MSelxZ\"></left>\n",
    "\n",
    "- Within class **MusicArtist()**, define the \\_\\_init\\_\\_() method.\n",
    "Within the \\_\\_init\\_\\_() method, define:\n",
    "    - **name**\n",
    "    - **genre**\n",
    "    - **song**\n",
    "- Create an **ed_sheeran** object, define these variables as:\n",
    "    - **name**: \"Ed Sheeran\"\n",
    "    - **genre**: \"Pop\"\n",
    "    - **song**: \"Thinking out Loud\"\n",
    "- Create a **beyonce** object, define these variables as:\n",
    "    - **name**: \"Beyonce\"\n",
    "    - **genre**: \"R&B\"\n",
    "    - **song**: \"Halo\""
   ]
  },
  {
   "cell_type": "code",
   "execution_count": 7,
   "metadata": {},
   "outputs": [],
   "source": [
    "# put your code here"
   ]
  },
  {
   "cell_type": "markdown",
   "metadata": {},
   "source": [
    "# Accessing Instance Variables\n",
    "\n",
    "Here's what we've created in the previous example:\n",
    "\n",
    "```python\n",
    "class MusicArtist():\n",
    "    def __init__(self, album):\n",
    "          self.album = album\n",
    "\n",
    "beyonce = MusicArtist(\"Dangerously in Love\")\n",
    "```\n",
    "\n",
    "Now that we've created an instance variable, let's access this instance variable. To access any instance variable, we use the dot notation:\n",
    "\n",
    "```python\n",
    "beyonce.album\n",
    "```\n",
    "\n",
    "This would print:\n",
    "\n",
    "```python\n",
    "\"Dangerously in Love\"\n",
    "```\n",
    "\n",
    "Since **beyonce.album** is a string, we can manipulate this variable like a string. For example, we could concatenate the string:\n",
    "\n",
    "```python\n",
    "print(beyonce.album + \" is awesome.\")\n",
    "```\n",
    "\n",
    "Or we could make \"Dangerously\" lowercase:\n",
    "\n",
    "```python\n",
    "beyonce.album.lower()\n",
    "```\n",
    "\n",
    "This would print:\n",
    "\n",
    "```python\n",
    "\"dangerously in Love\"\n",
    "```\n",
    "\n",
    "If we use a string method on an object like **beyonce.album**, to make sure **beyonce.album** is **\"dangerously in Love\"** whenever we call it, we'll also need to assign the value like **beyonce.album = beyonce.album.lower()**.\n",
    "\n",
    "An instance variable behaves like a regular variable. Let's start manipulating our instance variables!\n",
    "\n",
    "**Exercise**\n",
    "\n",
    "<left><img width=\"100\" src=\"https://drive.google.com/uc?export=view&id=1E8tR7B9YYUXsU_rddJAyq0FrM0MSelxZ\"></left>\n",
    "\n",
    "- Use **str.format()** to print out **\"Ed Sheeran is singing Thinking out Loud tonight\"**.\n",
    "- Use **str.format()** to print out **\"Beyonce is singing Halo tonight\"**."
   ]
  },
  {
   "cell_type": "code",
   "execution_count": null,
   "metadata": {},
   "outputs": [],
   "source": [
    "# put your code here"
   ]
  },
  {
   "cell_type": "markdown",
   "metadata": {},
   "source": [
    "# Adding Methods to a Class\n",
    "\n",
    "In the previous screen, we printed out the song each artist is going to sing. If we had 10 artists, we could write our code this way:\n",
    "\n",
    "```python\n",
    "print(\"{name} is singing {song} tonight\".format(name = ed_sheeran.name, song = ed_sheeran.song))\n",
    "print(\"{name} is singing {song} tonight\".format(name = beyonce.name, song = beyonce.song))\n",
    "print(\"{name} is singing {song} tonight\".format(name = kanye_west.name, song = kanye_west.song))\n",
    "print(\"{name} is singing {song} tonight\".format(name = beatles.name, song = beatles.song))\n",
    "print(\"{name} is singing {song} tonight\".format(name = bob_marley.name, song = bob_marley.song))\n",
    "print(\"{name} is singing {song} tonight\".format(name = michael_jackson.name, song = michael_jackson.song))\n",
    "print(\"{name} is singing {song} tonight\".format(name = jay_z.name, song = jay_z.song))\n",
    "print(\"{name} is singing {song} tonight\".format(name = avicii.name, song = avicii.song))\n",
    "print(\"{name} is singing {song} tonight\".format(name = justin_timberlake.name, song = justin_timberlake.song))\n",
    "print(\"{name} is singing {song} tonight\".format(name = bob_dylan.name, song = bob_dylan.song))\n",
    "```\n",
    "\n",
    "While we could manually hardcode each of these out, an easier way would be to use a method. We used methods earlier when we defined the \\_\\_init\\_\\_ method. Returning to our Dancer class metaphor, let's give our dancers **\"Jake\"** and **\"Julia\"** the ability to dance.\n",
    "\n",
    "To do this, we can create a method within our **class**. Creating a method follows the exact same steps as creating a function:\n",
    "\n",
    "```python\n",
    "class MusicArtist():\n",
    "    def __init__(self, album):\n",
    "          self.album = album\n",
    "\n",
    "    def dance():\n",
    "        pass\n",
    "\n",
    "beyonce = MusicArtist(\"Dangerously in Love\")\n",
    "```\n",
    "\n",
    "Whenever we create a new method, we should define which variables we'd like to use within our method. In our example, let's say we wanted our method to print out **\"Beyonce is dancing.\"** In this case, we'll need to add a **name** instance variable. Then, we'll call this instance variable in our method:\n",
    "\n",
    "\n"
   ]
  },
  {
   "cell_type": "code",
   "execution_count": 8,
   "metadata": {},
   "outputs": [
    {
     "ename": "TypeError",
     "evalue": "unsupported operand type(s) for +: 'MusicArtist' and 'str'",
     "output_type": "error",
     "traceback": [
      "\u001b[0;31m---------------------------------------------------------------------------\u001b[0m",
      "\u001b[0;31mTypeError\u001b[0m                                 Traceback (most recent call last)",
      "\u001b[0;32m<ipython-input-8-8edec6b027d9>\u001b[0m in \u001b[0;36m<module>\u001b[0;34m()\u001b[0m\n\u001b[1;32m      9\u001b[0m \u001b[0mbeyonce\u001b[0m \u001b[0;34m=\u001b[0m \u001b[0mMusicArtist\u001b[0m\u001b[0;34m(\u001b[0m\u001b[0;34m\"Dangerously in Love\"\u001b[0m\u001b[0;34m,\u001b[0m \u001b[0;34m\"Beyonce\"\u001b[0m\u001b[0;34m)\u001b[0m\u001b[0;34m\u001b[0m\u001b[0m\n\u001b[1;32m     10\u001b[0m \u001b[0;34m\u001b[0m\u001b[0m\n\u001b[0;32m---> 11\u001b[0;31m \u001b[0mbeyonce\u001b[0m\u001b[0;34m.\u001b[0m\u001b[0mdance\u001b[0m\u001b[0;34m(\u001b[0m\u001b[0;34m)\u001b[0m\u001b[0;34m\u001b[0m\u001b[0m\n\u001b[0m",
      "\u001b[0;32m<ipython-input-8-8edec6b027d9>\u001b[0m in \u001b[0;36mdance\u001b[0;34m(name)\u001b[0m\n\u001b[1;32m      5\u001b[0m \u001b[0;34m\u001b[0m\u001b[0m\n\u001b[1;32m      6\u001b[0m     \u001b[0;32mdef\u001b[0m \u001b[0mdance\u001b[0m\u001b[0;34m(\u001b[0m\u001b[0mname\u001b[0m\u001b[0;34m)\u001b[0m\u001b[0;34m:\u001b[0m\u001b[0;34m\u001b[0m\u001b[0m\n\u001b[0;32m----> 7\u001b[0;31m         \u001b[0;32mreturn\u001b[0m \u001b[0mname\u001b[0m \u001b[0;34m+\u001b[0m \u001b[0;34m\"is dancing.\"\u001b[0m\u001b[0;34m\u001b[0m\u001b[0m\n\u001b[0m\u001b[1;32m      8\u001b[0m \u001b[0;34m\u001b[0m\u001b[0m\n\u001b[1;32m      9\u001b[0m \u001b[0mbeyonce\u001b[0m \u001b[0;34m=\u001b[0m \u001b[0mMusicArtist\u001b[0m\u001b[0;34m(\u001b[0m\u001b[0;34m\"Dangerously in Love\"\u001b[0m\u001b[0;34m,\u001b[0m \u001b[0;34m\"Beyonce\"\u001b[0m\u001b[0;34m)\u001b[0m\u001b[0;34m\u001b[0m\u001b[0m\n",
      "\u001b[0;31mTypeError\u001b[0m: unsupported operand type(s) for +: 'MusicArtist' and 'str'"
     ]
    }
   ],
   "source": [
    "class MusicArtist():\n",
    "    def __init__(self, album, name):\n",
    "        self.album = album\n",
    "        self.name = name\n",
    "\n",
    "    def dance(name):\n",
    "        return name + \"is dancing.\" \n",
    "\n",
    "beyonce = MusicArtist(\"Dangerously in Love\", \"Beyonce\")\n",
    "\n",
    "beyonce.dance()"
   ]
  },
  {
   "cell_type": "markdown",
   "metadata": {},
   "source": [
    "Remember, methods within a **class** will automatically pass the object in as an argument. As a result, our current **dance()** method is attempting to concatenate the object with a string. Whenever we create a new method, we'll need to add a **self**\n",
    "keyword as an argument as a placeholder for the object that's automatically passed:"
   ]
  },
  {
   "cell_type": "code",
   "execution_count": 9,
   "metadata": {},
   "outputs": [
    {
     "data": {
      "text/plain": [
       "'Beyonce is dancing.'"
      ]
     },
     "execution_count": 9,
     "metadata": {},
     "output_type": "execute_result"
    }
   ],
   "source": [
    "class MusicArtist():\n",
    "    def __init__(self, album, name):\n",
    "        self.album = album\n",
    "        self.name = name\n",
    "\n",
    "    def dance(self):\n",
    "        return self.name + \" is dancing.\" \n",
    "\n",
    "beyonce = MusicArtist(\"Dangerously in Love\", \"Beyonce\")\n",
    "\n",
    "beyonce.dance()"
   ]
  },
  {
   "cell_type": "markdown",
   "metadata": {},
   "source": [
    "<left><img width=\"400\" src=\"https://drive.google.com/uc?export=view&id=14E3K5kBsRuddv3Yt8WKmFt4EFZPMxNKB\"></left>\n",
    "\n",
    "**Exercise**\n",
    "\n",
    "<left><img width=\"100\" src=\"https://drive.google.com/uc?export=view&id=1E8tR7B9YYUXsU_rddJAyq0FrM0MSelxZ\"></left>\n",
    "\n",
    "- Write a method called **sing()** that creates a string matching the following pattern and displays it using it **print()**:\n",
    "    - \"**{name} will be singing {song} tonight**\"\n",
    "    - **{name}** should map to the name attribute\n",
    "    - **{song}** should map to the song attribute\n",
    "- Call the **sing()** method on both the **ed_sheeran** and **beyonce** objects."
   ]
  },
  {
   "cell_type": "code",
   "execution_count": 36,
   "metadata": {},
   "outputs": [],
   "source": [
    "# put your code here"
   ]
  },
  {
   "cell_type": "markdown",
   "metadata": {},
   "source": [
    "# Creating The SimpleFrame Class"
   ]
  },
  {
   "cell_type": "markdown",
   "metadata": {},
   "source": [
    "In this Python introduction lesson, here's what we've accomplished:\n",
    "\n",
    "- We wrote **clean**, **modular** code to figure out **Spotify's** most popular song in 2017.\n",
    "- We've used **list comprehensions** and **lambda** functions to figure out the dominant artist of 2017.\n",
    "- We've created our own version of **Mad Libs** using Ed Sheeran lyrics.\n",
    "- We've used **datetime objects** to figure out the dominant artists for each month.\n",
    "- We've used **object-oriented programming** to create our own **MusicArtist class**.\n",
    "\n",
    "In the previous two notebooks, we've been writing functions to analyze our music data. In the previous sections, we introduced **Object-Oriented Programming**. How do we know which paradigm to use? Functional? Procedural? Object-Oriented? Each paradigm has it's pros/cons:\n",
    "\n",
    "\n",
    "<left><img width=\"600\" src=\"https://drive.google.com/uc?export=view&id=1c8D3mU-kfbllAMCgx5rnLD-PdVPqm1mU\"></left>"
   ]
  },
  {
   "cell_type": "markdown",
   "metadata": {},
   "source": [
    "Loading data from a file, manipulating it, and computing summary statistics (like a column average or maximum) is common in data science projects. While we can use the core Python data structures (lists, dictionaries, and tuples) and the core Python operations (like arithmetic operators) to accomplish these tasks, there are some benefits to using a specific module for data analysis.\n",
    "\n",
    "In 2008, software engineer Wes McKinney encountered limitations for data analysis in Python and sought to build a high-performance, flexible tool in Python to perform analysis on financial data. He found the process of importing, merging and analyzing data within Python to be cumbersome. As a result, he decided to build the pandas library. Pandas has become one of the most common libraries for data analysis. Here, you'll see the growth in [Pandas](https://pandas.pydata.org/pandas-docs/stable/):\n",
    "\n",
    "\n",
    "\n",
    "As Wes McKinney says:\n",
    "\n",
    ">“Scientists unnecessarily dealing with the drudgery of simple data manipulation tasks makes me feel terrible.”\n",
    "\n",
    "Core to pandas is the **DataFrame** class, which stores data read in from a file and contains hundreds of methods for working with the data. You can preview the breadth of methods at the pandas API documentation page.\n",
    "\n",
    "In the next lessons, we'll dive into how to use the [pandas library](https://pandas.pydata.org/pandas-docs/stable/api.html#dataframe) to perform common data analysis tasks easily. In this Guided cells, we'll apply what we learned in this course to replicate a small part of the pandas library. We'll create a SimpleFrame class that supports some common tasks like:\n",
    "\n",
    "- Reading in data from a CSV file\n",
    "- Computing the maximum, minimum, or average value of a column\n",
    "- Adding new columns\n",
    "\n",
    "After building up this class, we'll use it to answer the following questions using simple function calls:\n",
    "\n",
    "- Which song had the highest number of plays in one day?\n",
    "- Which song had the lowest number of plays in one day?"
   ]
  },
  {
   "cell_type": "code",
   "execution_count": 10,
   "metadata": {},
   "outputs": [],
   "source": [
    "import csv\n",
    "from statistics import mean, stdev, median, mode\n",
    "\n",
    "class SimpleFrame():\n",
    "    def __init__(self, filename):\n",
    "        self.filename = filename\n",
    "    \n",
    "    def read_data(self):\n",
    "        '''\n",
    "        Reads and opens the data\n",
    "        '''\n",
    "        f = open(self.filename,\"r\")\n",
    "        self.data = list(csv.reader(f))\n",
    "        self.columns = self.data[0]\n",
    "    \n",
    "    def head(self):\n",
    "        '''\n",
    "        Displays the first five rows\n",
    "        '''\n",
    "        return self.data[:5]\n",
    "        \n",
    "    \n",
    "    def shape(self):\n",
    "        num_rows = 0\n",
    "        for row in self.data:\n",
    "            num_rows += 1\n",
    "        \n",
    "        num_cols = len(self.data[0])\n",
    "        return [num_rows, num_cols]\n",
    "    \n",
    "    def new_column(self, column_name):\n",
    "        for pos, d in enumerate(self.data):\n",
    "            if pos == 0:\n",
    "                d.append(column_name)\n",
    "            else:\n",
    "                d.append('NA')\n",
    "    \n",
    "    def apply(self, column_name, new_value):\n",
    "        for pos, col in enumerate(self.data[0]):\n",
    "            if col == column_name:\n",
    "                column_index = pos\n",
    "        \n",
    "        for data in self.data[1:]:\n",
    "            data[column_index] = new_value\n",
    "    \n",
    "    def subset(self, column_name, row_value):\n",
    "        for pos, col in enumerate(self.data[0]):\n",
    "            if col == column_name:\n",
    "                column_index = pos\n",
    "        \n",
    "        print(column_index)\n",
    "        subset_data = []\n",
    "        for data in self.data[1:]:\n",
    "            if row_value in data:\n",
    "                subset_data.append(data[column_index])\n",
    "        return subset_data\n",
    "\n",
    "    \n",
    "    def summary_stats(self, column_name):\n",
    "        for pos, col in enumerate(self.data[0]):\n",
    "            if col == column_name:\n",
    "                column_index = pos\n",
    "\n",
    "        num_data = [data[column_index] for data in self.data[1:]]\n",
    "        m = statistics.mean(num_data)\n",
    "        std = stdev(num_data)\n",
    "        median = statistics.median(num_data)\n",
    "        \n",
    "        print(\"Mean is {mean}\".format(mean= m))\n",
    "        print(\"Standard Deviation is {std}\".format(std= std))\n",
    "        print(\"Median is {median}\".format(median= median))\n",
    "        \n",
    "            \n",
    "    def minimum(self, column):\n",
    "        for pos, col in enumerate(self.data[0]):\n",
    "            if col == column:\n",
    "                column_index = pos\n",
    "\n",
    "        ## Find min value\n",
    "        col_data = []\n",
    "        for row in self.data[1:]:\n",
    "            col_data.append([row[1],row[2],row[column_index]])\n",
    "        \n",
    "        return min(col_data, key= lambda x: x[2])\n",
    "    \n",
    "    def maximum(self, column):\n",
    "        for pos, col in enumerate(self.data[0]):\n",
    "            if col == column:\n",
    "                column_index = pos\n",
    "        ## Find min value\n",
    "        col_data = []\n",
    "        for row in self.data[1:]:\n",
    "            col_data.append([row[1],row[2],row[column_index]])\n",
    "        return max(col_data, key= lambda x: x[2])\n",
    "  "
   ]
  },
  {
   "cell_type": "code",
   "execution_count": 12,
   "metadata": {},
   "outputs": [
    {
     "name": "stdout",
     "output_type": "stream",
     "text": [
      "[37101, 6]\n"
     ]
    }
   ],
   "source": [
    "s = SimpleFrame(\"music_data.csv\")\n",
    "s.read_data()\n",
    "print(s.shape())"
   ]
  },
  {
   "cell_type": "code",
   "execution_count": 13,
   "metadata": {},
   "outputs": [
    {
     "data": {
      "text/plain": [
       "[['', 'Track Name', 'Artist', 'Streams', 'Date', 'Region', 'hello'],\n",
       " ['0',\n",
       "  'Reggaetón Lento (Bailemos)',\n",
       "  'CNCO',\n",
       "  '19272',\n",
       "  '2017-01-01',\n",
       "  'ec',\n",
       "  'NA'],\n",
       " ['1', 'Chantaje', 'Shakira', '19270', '2017-01-01', 'ec', 'NA'],\n",
       " ['2',\n",
       "  'Otra Vez (feat. J Balvin)',\n",
       "  'Zion & Lennox',\n",
       "  '15761',\n",
       "  '2017-01-01',\n",
       "  'ec',\n",
       "  'NA'],\n",
       " ['3', \"Vente Pa' Ca\", 'Ricky Martin', '14954', '2017-01-01', 'ec', 'NA']]"
      ]
     },
     "execution_count": 13,
     "metadata": {},
     "output_type": "execute_result"
    }
   ],
   "source": [
    "s.columns\n",
    "s.new_column('hello')\n",
    "s.head()"
   ]
  },
  {
   "cell_type": "code",
   "execution_count": 15,
   "metadata": {},
   "outputs": [
    {
     "name": "stdout",
     "output_type": "stream",
     "text": [
      "2\n"
     ]
    },
    {
     "data": {
      "text/plain": [
       "666"
      ]
     },
     "execution_count": 15,
     "metadata": {},
     "output_type": "execute_result"
    }
   ],
   "source": [
    "len(s.subset(\"Artist\",\"Shakira\"))"
   ]
  },
  {
   "cell_type": "code",
   "execution_count": 37,
   "metadata": {},
   "outputs": [
    {
     "name": "stdout",
     "output_type": "stream",
     "text": [
      "2\n",
      "['Reggaetón Lento (Bailemos)', 'CNCO', '9998']\n",
      "['Ay Mi Dios', 'IAmChino', '10000']\n"
     ]
    }
   ],
   "source": [
    "print(s.maximum(\"Streams\"))\n",
    "print(s.minimum(\"Streams\"))"
   ]
  }
 ],
 "metadata": {
  "kernelspec": {
   "display_name": "Python 3",
   "language": "python",
   "name": "python3"
  },
  "language_info": {
   "codemirror_mode": {
    "name": "ipython",
    "version": 3
   },
   "file_extension": ".py",
   "mimetype": "text/x-python",
   "name": "python",
   "nbconvert_exporter": "python",
   "pygments_lexer": "ipython3",
   "version": "3.6.5"
  }
 },
 "nbformat": 4,
 "nbformat_minor": 2
}
